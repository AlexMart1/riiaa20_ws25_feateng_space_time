{
 "cells": [
  {
   "cell_type": "markdown",
   "metadata": {},
   "source": [
    "# MIT License\n",
    "\n",
    "Copyright 2020 Pablo Duboue\n",
    "\n",
    "Permission is hereby granted, free of charge, to any person obtaining a copy of this software and associated documentation files (the \"Software\"), to deal in the Software without restriction, including without limitation the rights to use, copy, modify, merge, publish, distribute, sublicense, and/or sell copies of the Software, and to permit persons to whom the Software is furnished to do so, subject to the following conditions:\n",
    "\n",
    "The above copyright notice and this permission notice shall be included in all copies or substantial portions of the Software.\n",
    "\n",
    "THE SOFTWARE IS PROVIDED \"AS IS\", WITHOUT WARRANTY OF ANY KIND, EXPRESS OR IMPLIED, INCLUDING BUT NOT LIMITED TO THE WARRANTIES OF MERCHANTABILITY, FITNESS FOR A PARTICULAR PURPOSE AND NONINFRINGEMENT. IN NO EVENT SHALL THE AUTHORS OR COPYRIGHT HOLDERS BE LIABLE FOR ANY CLAIM, DAMAGES OR OTHER LIABILITY, WHETHER IN AN ACTION OF CONTRACT, TORT OR OTHERWISE, ARISING FROM, OUT OF OR IN CONNECTION WITH THE SOFTWARE OR THE USE OR OTHER DEALINGS IN THE SOFTWARE."
   ]
  },
  {
   "cell_type": "markdown",
   "metadata": {},
   "source": [
    "This code is derived from the Case Study in Chapter 10, see https://github.com/DrDub/artfeateng"
   ]
  },
  {
   "cell_type": "markdown",
   "metadata": {},
   "source": [
    "# Geographical Features\n",
    "\n",
    "In GIS features, we would look at using representions based on distance to key points. "
   ]
  },
  {
   "cell_type": "markdown",
   "metadata": {},
   "source": [
    "## Example Data\n",
    "\n",
    "We will be using the migration data through satellite telemetry for African cuckoos in Nigeria, kindly released by [Iwajomo SB et al, 2018 as part of the movebank.org data repository](https://www.datarepository.movebank.org/handle/10255/move.714). It contains 12,563 tracking points for six individuals, from May 29th, 2013 until Jun 28th, 2017.\n",
    "\n",
    "![Data trajectory](../media/movebank.png)\n",
    "\n",
    "We will look into the problem of predicting whether a bird will move in the next two hours."
   ]
  },
  {
   "cell_type": "code",
   "execution_count": 1,
   "metadata": {},
   "outputs": [
    {
     "name": "stdout",
     "output_type": "stream",
     "text": [
      "Read 12096 rows\n"
     ]
    }
   ],
   "source": [
    "# from CELL 21\n",
    "import os\n",
    "\n",
    "rows = list()\n",
    "with open(os.path.join(\"..\", \"data\", \"African cuckoo in Nigeria (data from Iwajomo et al. 2018).csv\")) as csv:\n",
    "    header = None\n",
    "    for row in csv:\n",
    "        cols = row.split(\",\")\n",
    "        if header is None:\n",
    "            header = { w: i for i, w in enumerate(cols) }\n",
    "        else:\n",
    "            long =  cols[header['location-long']]\n",
    "            lat = cols[header['location-lat']]\n",
    "            if len(long) > 3 and len(lat) > 3:\n",
    "                rows.append( [ \n",
    "                    cols[header['timestamp']],\n",
    "                    long,\n",
    "                    lat,\n",
    "                    cols[header['individual-local-identifier']]\n",
    "                ])\n",
    "print(\"Read\", len(rows), \"rows\")"
   ]
  },
  {
   "cell_type": "markdown",
   "metadata": {},
   "source": [
    "We will now split the rows by individual, leaving two individuals for training, two for devtest and one for final testing.\n",
    "\n",
    "To obtain the classes (moved or not), we parse the time stamps and assign a class depending on the number of seconds between two entries. We will also explode the date and time as individual features and compute a \"day in the year\" feature."
   ]
  },
  {
   "cell_type": "code",
   "execution_count": 2,
   "metadata": {},
   "outputs": [
    {
     "name": "stdout",
     "output_type": "stream",
     "text": [
      "Total individuals: 5\n",
      "\"126698\" 712\n",
      "\"126695\" 136\n",
      "\"126697\" 3063\n",
      "\"126696\" 3617\n",
      "\"126694\" 4568\n",
      "Total train rows: 4704\n",
      "Total test rows: 4329\n"
     ]
    }
   ],
   "source": [
    "# from CELL 22\n",
    "import random\n",
    "\n",
    "individuals = set(map(lambda x:x[-1], rows))\n",
    "\n",
    "print(\"Total individuals:\", len(individuals))\n",
    "\n",
    "for indiv in individuals:\n",
    "    print(indiv, len(list(filter(lambda x:x[-1] == indiv, rows))))\n",
    "\n",
    "random_indiv = list(individuals)\n",
    "random.shuffle(random_indiv, random=random.Random(40).random)\n",
    "train_indiv = set(random_indiv[0:2])\n",
    "test_indiv = set(random_indiv[2:4])\n",
    "final_test_indiv = set(random_indiv[4])\n",
    "\n",
    "train_rows = len(list(filter(lambda x:x[-1] in train_indiv, rows)))\n",
    "print(\"Total train rows:\", train_rows)\n",
    "test_rows = len(list(filter(lambda x:x[-1] in test_indiv, rows)))\n",
    "print(\"Total test rows:\", test_rows)"
   ]
  },
  {
   "cell_type": "code",
   "execution_count": 3,
   "metadata": {},
   "outputs": [
    {
     "name": "stdout",
     "output_type": "stream",
     "text": [
      "1727.0\n",
      "1571.0\n"
     ]
    }
   ],
   "source": [
    "# from CELL 23\n",
    "import re\n",
    "import datetime\n",
    "import numpy as np\n",
    "\n",
    "xtrain = np.zeros((train_rows, \n",
    "                   3 + # year, month, day \n",
    "                   1 + # day of year\n",
    "                   3 + # hh, mm, ss\n",
    "                   2 # lat long\n",
    "                  ), dtype='float32')\n",
    "ytrain = np.zeros((train_rows,), dtype='float32')\n",
    "\n",
    "prev = None\n",
    "for idx, row in enumerate(filter(lambda x:x[-1] in train_indiv, rows)):\n",
    "    year, month, day, hh, mm, ss = re.split(\" |-|:+\", row[0])\n",
    "    year = int(year)\n",
    "    month = int(month)\n",
    "    day = int(day)\n",
    "    hh = int(hh)\n",
    "    mm = int(hh)\n",
    "    ss = float(ss)\n",
    "    dt = datetime.datetime(year, month, day, hh, mm, int(ss))\n",
    "    try:\n",
    "        xtrain[idx,:] = [ \n",
    "            year, month, day, dt.timetuple().tm_yday, hh, mm, ss,\n",
    "            float(row[1]), float(row[2])\n",
    "        ]\n",
    "    except:\n",
    "        print(row)\n",
    "    ts = dt.timestamp()\n",
    "    if prev is None:\n",
    "        ytrain[idx] = 0.0\n",
    "    else:\n",
    "        if ts - prev > 2 * 60 * 60:\n",
    "            ytrain[idx] = 1.0\n",
    "        else:\n",
    "            ytrain[idx] = 0.0\n",
    "    prev = ts \n",
    "print(np.sum(ytrain))\n",
    "\n",
    "xtest = np.zeros((test_rows, xtrain.shape[1]), dtype='float32')\n",
    "ytest = np.zeros((test_rows,), dtype='float32')\n",
    "\n",
    "prev = None\n",
    "for idx, row in enumerate(filter(lambda x:x[-1] in test_indiv, rows)):\n",
    "    year, month, day, hh, mm, ss = re.split(\" |-|:+\", row[0])\n",
    "    year = int(year)\n",
    "    month = int(month)\n",
    "    day = int(day)\n",
    "    hh = int(hh)\n",
    "    mm = int(hh)\n",
    "    ss = float(ss)\n",
    "    dt = datetime.datetime(year, month, day, hh, mm, int(ss))\n",
    "    try:\n",
    "        xtest[idx,:] = [ \n",
    "            year, month, day, dt.timetuple().tm_yday, hh, mm, ss,\n",
    "            float(row[1]), float(row[2])\n",
    "        ]\n",
    "    except:\n",
    "        print(row)\n",
    "    ts = dt.timestamp()\n",
    "    if prev is None:\n",
    "        ytest[idx] = 0.0\n",
    "    else:\n",
    "        if ts - prev > 2 * 60 * 60:\n",
    "            ytest[idx] = 1.0\n",
    "        else:\n",
    "            ytest[idx] = 0.0\n",
    "    prev = ts \n",
    "\n",
    "print(np.sum(ytest))"
   ]
  },
  {
   "cell_type": "code",
   "execution_count": 4,
   "metadata": {},
   "outputs": [
    {
     "name": "stderr",
     "output_type": "stream",
     "text": [
      "/home/pablo/local/virtualenv/feateng/lib/python3.6/site-packages/sklearn/ensemble/weight_boosting.py:29: DeprecationWarning: numpy.core.umath_tests is an internal NumPy module and should not be imported. It will be removed in a future NumPy release.\n",
      "  from numpy.core.umath_tests import inner1d\n"
     ]
    },
    {
     "name": "stdout",
     "output_type": "stream",
     "text": [
      "Training on 4,704 instances for 9 features\n",
      "[Base] Prec  [0.73836276 0.62273476] Rec [0.83393764 0.48122215] F1 [0.78324536 0.54290844]\n"
     ]
    }
   ],
   "source": [
    "# from CELL 24\n",
    "from sklearn.ensemble import RandomForestClassifier\n",
    "from sklearn.metrics import precision_recall_fscore_support\n",
    "\n",
    "rf = RandomForestClassifier(n_estimators = 100, random_state=42)\n",
    "\n",
    "print(\"Training on {:,} instances for {:,} features\".format(*xtrain.shape))\n",
    "rf.fit(xtrain, ytrain)\n",
    "ytest_pred = rf.predict(xtest)\n",
    "\n",
    "prec, rec, f1, _ = precision_recall_fscore_support(ytest, ytest_pred)\n",
    "\n",
    "print(\"[Base] Prec \", prec, \"Rec\", rec, \"F1\", f1)"
   ]
  },
  {
   "cell_type": "markdown",
   "metadata": {},
   "source": [
    "## Radial distance\n",
    "\n",
    "We will use a list of administrative units obtained from [GeoNames.org](http://download.geonames.org/export/dump/) for both Nigeria and Cameroon and add features as the distance to each of these points."
   ]
  },
  {
   "cell_type": "code",
   "execution_count": 5,
   "metadata": {},
   "outputs": [
    {
     "name": "stdout",
     "output_type": "stream",
     "text": [
      "Total cities: 850\n",
      "Sumaila 35.267436061479415 km\n",
      "Tudun Wada 32.059023926201526 km\n",
      "Doguwa 21.28593558849602 km\n",
      "Ningi 48.061818326436985 km\n",
      "Kuban 45.62228782290097 km\n",
      "Close cities: 5\n"
     ]
    }
   ],
   "source": [
    "# from CELL 25\n",
    "import geopy.distance\n",
    "\n",
    "adms = list() # of coordinate tuples\n",
    "\n",
    "with open(os.path.join(\"..\", \"data\", \"NG.txt\")) as cm:\n",
    "    for line in cm:\n",
    "        fields = line.split(\"\\t\")\n",
    "        if fields[7] == 'ADM2':\n",
    "            adms.append( (fields[1], (float(fields[4]), float(fields[5]))) )\n",
    "with open(os.path.join(\"..\", \"data\", \"CM.txt\")) as cm:\n",
    "    for line in cm:\n",
    "        fields = line.split(\"\\t\")\n",
    "        if fields[7] == 'ADM2':\n",
    "            adms.append( (fields[1], (float(fields[4]), float(fields[5]))) )\n",
    "\n",
    "# center for points\n",
    "lat_center, lon_center = xtrain[:,-2].mean(), xtrain[:,-1].mean()\n",
    "            \n",
    "print(\"Total cities:\", len(adms))\n",
    "\n",
    "close_cities = list()\n",
    "for adm_coord in adms:\n",
    "    dist = geopy.distance.distance( (lat_center, lon_center), adm_coord[1])\n",
    "    if dist.km < 50:\n",
    "        close_cities.append(adm_coord[1])\n",
    "        print(adm_coord[0], dist)\n",
    "print(\"Close cities:\", len(close_cities))"
   ]
  },
  {
   "cell_type": "code",
   "execution_count": 6,
   "metadata": {},
   "outputs": [
    {
     "name": "stdout",
     "output_type": "stream",
     "text": [
      "Training on 4,704 instances for 14 features\n",
      "[Radial] Prec  [0.7160615  0.55267296] Rec [0.79369108 0.44748568] F1 [0.75288048 0.49454801]\n"
     ]
    }
   ],
   "source": [
    "# from CELL 25\n",
    "import geopy.distance\n",
    "\n",
    "xtrain_radial = np.zeros((xtrain.shape[0], xtrain.shape[1] + len(close_cities)), dtype='float32')\n",
    "xtrain_radial[:,:xtrain.shape[1]] = xtrain\n",
    "\n",
    "for row_idx in range(xtrain.shape[0]):\n",
    "    for idx, adm_coord in enumerate(close_cities):\n",
    "        xtrain_radial[row_idx][xtrain.shape[1] + idx] = \\\n",
    "          geopy.distance.distance((xtrain[row_idx][-2], xtrain[row_idx][-1]), adm_coord).km\n",
    "\n",
    "xtest_radial = np.zeros((xtest.shape[0], xtest.shape[1] + len(close_cities)), dtype='float32')\n",
    "xtest_radial[:,:xtest.shape[1]] = xtest\n",
    "\n",
    "for row_idx in range(xtest.shape[0]):\n",
    "    for idx, adm_coord in enumerate(close_cities):\n",
    "        xtest_radial[row_idx][xtest.shape[1] + idx] = \\\n",
    "          geopy.distance.distance((xtest[row_idx][-2], xtest[row_idx][-1]), adm_coord).km\n",
    "\n",
    "print(\"Training on {:,} instances for {:,} features\".format(*xtrain_radial.shape))\n",
    "rf = RandomForestClassifier(n_estimators=100, random_state=42)\n",
    "\n",
    "rf.fit(xtrain_radial, ytrain)\n",
    "ytest_pred_radial = rf.predict(xtest_radial)\n",
    "\n",
    "prec, rec, f1, _ = precision_recall_fscore_support(ytest, ytest_pred_radial)\n",
    "\n",
    "print(\"[Radial] Prec \", prec, \"Rec\", rec, \"F1\", f1)"
   ]
  }
 ],
 "metadata": {
  "kernelspec": {
   "display_name": "feateng",
   "language": "python",
   "name": "feateng"
  },
  "language_info": {
   "codemirror_mode": {
    "name": "ipython",
    "version": 3
   },
   "file_extension": ".py",
   "mimetype": "text/x-python",
   "name": "python",
   "nbconvert_exporter": "python",
   "pygments_lexer": "ipython3",
   "version": "3.6.5"
  }
 },
 "nbformat": 4,
 "nbformat_minor": 2
}
